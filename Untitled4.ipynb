{
  "nbformat": 4,
  "nbformat_minor": 0,
  "metadata": {
    "colab": {
      "provenance": []
    },
    "kernelspec": {
      "name": "python3",
      "display_name": "Python 3"
    },
    "language_info": {
      "name": "python"
    }
  },
  "cells": [
    {
      "cell_type": "code",
      "execution_count": null,
      "metadata": {
        "id": "uXprsOy4MuH8"
      },
      "outputs": [],
      "source": []
    },
    {
      "cell_type": "code",
      "source": [
        "def merge_strings(word1, word2):\n",
        "    return word1 + word2\n",
        "\n",
        "word1 = \"abc\"\n",
        "word2 = \"pqr\"\n",
        "result = merge_strings(word1, word2)\n",
        "print(\"Merged String:\",result)"
      ],
      "metadata": {
        "colab": {
          "base_uri": "https://localhost:8080/"
        },
        "id": "xHKqLuVnM1VI",
        "outputId": "8639235f-686b-4a26-ad59-50c6af4f5500"
      },
      "execution_count": null,
      "outputs": [
        {
          "output_type": "stream",
          "name": "stdout",
          "text": [
            "Merged String: abcpqr\n"
          ]
        }
      ]
    },
    {
      "cell_type": "code",
      "source": [
        "def merge_strings(word1, word2):\n",
        "    merged = ''.join(a + b for a, b in zip(word1, word2))\n",
        "    return merged + word1[len(word2):] + word2[len(word1):]\n",
        "\n",
        "word1 = \"ab\"\n",
        "word2 = \"pqrs\"\n",
        "\n",
        "result = merge_strings(word1, word2)\n",
        "print(result)  # Output: \"apbqrs\""
      ],
      "metadata": {
        "colab": {
          "base_uri": "https://localhost:8080/"
        },
        "id": "4_pSrlUaM-y_",
        "outputId": "e6d132be-466b-4b1d-f981-7d41def82b5f"
      },
      "execution_count": null,
      "outputs": [
        {
          "output_type": "stream",
          "name": "stdout",
          "text": [
            "apbqrs\n"
          ]
        }
      ]
    },
    {
      "cell_type": "code",
      "source": [
        "word1 = \"abcd\"\n",
        "word2 = \"pq\"\n",
        "\n",
        "merged_string = word1 + word2\n",
        "print(merged_string)"
      ],
      "metadata": {
        "colab": {
          "base_uri": "https://localhost:8080/"
        },
        "id": "orETLeDxNFjx",
        "outputId": "18416fcd-8eca-400c-8b69-75bf78286e4d"
      },
      "execution_count": null,
      "outputs": [
        {
          "output_type": "stream",
          "name": "stdout",
          "text": [
            "abcdpq\n"
          ]
        }
      ]
    },
    {
      "cell_type": "code",
      "source": [
        "import math\n",
        "\n",
        "def gcd_of_strings(str1, str2):\n",
        "    if str1 + str2 != str2 + str1:\n",
        "        return \"\"\n",
        "    gcd_length = math.gcd(len(str1), len(str2))\n",
        "    return str1[:gcd_length]\n",
        "str1 = \"ABCABC\"\n",
        "str2 = \"ABC\"\n",
        "\n",
        "print(gcd_of_strings(str1, str2))"
      ],
      "metadata": {
        "colab": {
          "base_uri": "https://localhost:8080/"
        },
        "id": "WEfpvwwpNQAO",
        "outputId": "2ab12581-ec0e-4c04-d92d-e065a1cc5561"
      },
      "execution_count": null,
      "outputs": [
        {
          "output_type": "stream",
          "name": "stdout",
          "text": [
            "ABC\n"
          ]
        }
      ]
    },
    {
      "cell_type": "code",
      "source": [
        "import math\n",
        "\n",
        "def gcd_of_strings(str1, str2):\n",
        "    if str1 + str2 != str2 + str1:\n",
        "        return \"\"\n",
        "    gcd_length = math.gcd(len(str1), len(str2))\n",
        "    return str1[:gcd_length]\n",
        "str1 = \"ABABAB\"\n",
        "str2 = \"ABAB\"\n",
        "\n",
        "print(gcd_of_strings(str1, str2))\n"
      ],
      "metadata": {
        "colab": {
          "base_uri": "https://localhost:8080/"
        },
        "id": "wvvC8oE0Nft3",
        "outputId": "272a7878-59a0-4cd8-c355-37b19d39589d"
      },
      "execution_count": null,
      "outputs": [
        {
          "output_type": "stream",
          "name": "stdout",
          "text": [
            "AB\n"
          ]
        }
      ]
    },
    {
      "cell_type": "code",
      "source": [
        "import math\n",
        "\n",
        "def gcd_of_strings(str1, str2):\n",
        "  if str1 + str2 != str2 + str1:\n",
        "    return \"\"\n",
        "  gcd_length = math.gcd(len(str1), len(str2))\n",
        "  return str1[:gcd_length]\n",
        "str1 = \"LEET\"\n",
        "str2 = \"CODE\"\n",
        "\n",
        "print(gcd_of_strings(str1, str2))"
      ],
      "metadata": {
        "id": "cj5PBl4wNn0W",
        "outputId": "5fbff7bb-8c42-46ab-952e-cdde3bf13bcc",
        "colab": {
          "base_uri": "https://localhost:8080/"
        }
      },
      "execution_count": null,
      "outputs": [
        {
          "output_type": "stream",
          "name": "stdout",
          "text": [
            "\n"
          ]
        }
      ]
    }
  ]
}